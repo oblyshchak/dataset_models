{
 "cells": [
  {
   "cell_type": "code",
   "execution_count": 1,
   "id": "620e7c74-a97c-4526-911e-fa3dcc8a82cd",
   "metadata": {},
   "outputs": [],
   "source": [
    "import pandas as pd\n",
    "import numpy as np\n",
    "import scipy.stats\n",
    "import matplotlib.pyplot as plt"
   ]
  },
  {
   "cell_type": "code",
   "execution_count": 2,
   "id": "a1b14591-e077-4c5d-9339-36600ae69285",
   "metadata": {},
   "outputs": [],
   "source": [
    "data = pd.read_csv('interference.csv')\n",
    "data.index = data['Subj']\n",
    "del data['Subj']"
   ]
  },
  {
   "cell_type": "code",
   "execution_count": 3,
   "id": "d5acb75e-eb03-408e-a377-cba96aedd30e",
   "metadata": {},
   "outputs": [
    {
     "data": {
      "text/html": [
       "<div>\n",
       "<style scoped>\n",
       "    .dataframe tbody tr th:only-of-type {\n",
       "        vertical-align: middle;\n",
       "    }\n",
       "\n",
       "    .dataframe tbody tr th {\n",
       "        vertical-align: top;\n",
       "    }\n",
       "\n",
       "    .dataframe thead th {\n",
       "        text-align: right;\n",
       "    }\n",
       "</style>\n",
       "<table border=\"1\" class=\"dataframe\">\n",
       "  <thead>\n",
       "    <tr style=\"text-align: right;\">\n",
       "      <th></th>\n",
       "      <th>DiffCol</th>\n",
       "      <th>Black</th>\n",
       "    </tr>\n",
       "    <tr>\n",
       "      <th>Subj</th>\n",
       "      <th></th>\n",
       "      <th></th>\n",
       "    </tr>\n",
       "  </thead>\n",
       "  <tbody>\n",
       "    <tr>\n",
       "      <th>1</th>\n",
       "      <td>39.64</td>\n",
       "      <td>37.53</td>\n",
       "    </tr>\n",
       "    <tr>\n",
       "      <th>2</th>\n",
       "      <td>44.26</td>\n",
       "      <td>42.02</td>\n",
       "    </tr>\n",
       "    <tr>\n",
       "      <th>3</th>\n",
       "      <td>33.84</td>\n",
       "      <td>31.99</td>\n",
       "    </tr>\n",
       "    <tr>\n",
       "      <th>4</th>\n",
       "      <td>53.88</td>\n",
       "      <td>39.48</td>\n",
       "    </tr>\n",
       "    <tr>\n",
       "      <th>5</th>\n",
       "      <td>38.94</td>\n",
       "      <td>43.09</td>\n",
       "    </tr>\n",
       "  </tbody>\n",
       "</table>\n",
       "</div>"
      ],
      "text/plain": [
       "      DiffCol  Black\n",
       "Subj                \n",
       "1       39.64  37.53\n",
       "2       44.26  42.02\n",
       "3       33.84  31.99\n",
       "4       53.88  39.48\n",
       "5       38.94  43.09"
      ]
     },
     "execution_count": 3,
     "metadata": {},
     "output_type": "execute_result"
    }
   ],
   "source": [
    "data.head()"
   ]
  },
  {
   "cell_type": "code",
   "execution_count": 4,
   "id": "29aba4dd-696f-4145-ba56-3ce0328ca6b0",
   "metadata": {},
   "outputs": [
    {
     "data": {
      "text/html": [
       "<div>\n",
       "<style scoped>\n",
       "    .dataframe tbody tr th:only-of-type {\n",
       "        vertical-align: middle;\n",
       "    }\n",
       "\n",
       "    .dataframe tbody tr th {\n",
       "        vertical-align: top;\n",
       "    }\n",
       "\n",
       "    .dataframe thead th {\n",
       "        text-align: right;\n",
       "    }\n",
       "</style>\n",
       "<table border=\"1\" class=\"dataframe\">\n",
       "  <thead>\n",
       "    <tr style=\"text-align: right;\">\n",
       "      <th></th>\n",
       "      <th>DiffCol</th>\n",
       "      <th>Black</th>\n",
       "    </tr>\n",
       "  </thead>\n",
       "  <tbody>\n",
       "    <tr>\n",
       "      <th>count</th>\n",
       "      <td>70.000000</td>\n",
       "      <td>70.000000</td>\n",
       "    </tr>\n",
       "    <tr>\n",
       "      <th>mean</th>\n",
       "      <td>43.300143</td>\n",
       "      <td>41.000143</td>\n",
       "    </tr>\n",
       "    <tr>\n",
       "      <th>std</th>\n",
       "      <td>6.149710</td>\n",
       "      <td>4.840233</td>\n",
       "    </tr>\n",
       "    <tr>\n",
       "      <th>min</th>\n",
       "      <td>29.130000</td>\n",
       "      <td>29.850000</td>\n",
       "    </tr>\n",
       "    <tr>\n",
       "      <th>25%</th>\n",
       "      <td>38.760000</td>\n",
       "      <td>38.195000</td>\n",
       "    </tr>\n",
       "    <tr>\n",
       "      <th>50%</th>\n",
       "      <td>44.330000</td>\n",
       "      <td>40.965000</td>\n",
       "    </tr>\n",
       "    <tr>\n",
       "      <th>75%</th>\n",
       "      <td>46.962500</td>\n",
       "      <td>44.447500</td>\n",
       "    </tr>\n",
       "    <tr>\n",
       "      <th>max</th>\n",
       "      <td>56.550000</td>\n",
       "      <td>52.210000</td>\n",
       "    </tr>\n",
       "  </tbody>\n",
       "</table>\n",
       "</div>"
      ],
      "text/plain": [
       "         DiffCol      Black\n",
       "count  70.000000  70.000000\n",
       "mean   43.300143  41.000143\n",
       "std     6.149710   4.840233\n",
       "min    29.130000  29.850000\n",
       "25%    38.760000  38.195000\n",
       "50%    44.330000  40.965000\n",
       "75%    46.962500  44.447500\n",
       "max    56.550000  52.210000"
      ]
     },
     "execution_count": 4,
     "metadata": {},
     "output_type": "execute_result"
    }
   ],
   "source": [
    "data.describe()"
   ]
  },
  {
   "cell_type": "code",
   "execution_count": 5,
   "id": "18c42787-f651-4b15-ad45-1757db9f1b9c",
   "metadata": {},
   "outputs": [
    {
     "data": {
      "text/plain": [
       "DiffCol    0\n",
       "Black      0\n",
       "dtype: int64"
      ]
     },
     "execution_count": 5,
     "metadata": {},
     "output_type": "execute_result"
    }
   ],
   "source": [
    "data.isna().sum()"
   ]
  },
  {
   "cell_type": "code",
   "execution_count": 6,
   "id": "30c6f843-456f-4799-be96-9279c445e9cf",
   "metadata": {},
   "outputs": [],
   "source": [
    "def two_histagrams(x, y):\n",
    "    x.hist(alpha = 0.5, weights = [1/len(x)]*len(x), color = 'black')\n",
    "    y.hist(alpha = 0.5, weights = [1/len(y)]*len(y))\n",
    "    plt.axvline(x.mean(), color = 'red', ls='--')\n",
    "    plt.axvline(y.mean(), color = 'blue', ls='dashdot')"
   ]
  },
  {
   "cell_type": "code",
   "execution_count": 7,
   "id": "1b30d159-8d20-48eb-a382-375c4298976f",
   "metadata": {},
   "outputs": [
    {
     "data": {
      "text/plain": [
       "(70, 2)"
      ]
     },
     "execution_count": 7,
     "metadata": {},
     "output_type": "execute_result"
    }
   ],
   "source": [
    "data.shape"
   ]
  },
  {
   "cell_type": "code",
   "execution_count": 8,
   "id": "4996822a-83ce-4e1f-993a-6b9f9e66b64c",
   "metadata": {},
   "outputs": [],
   "source": [
    "diff = data['DiffCol']\n",
    "black = data['Black']"
   ]
  },
  {
   "cell_type": "code",
   "execution_count": 9,
   "id": "e96b98a5-9de9-4cfa-a4b5-24f1b96dc2d0",
   "metadata": {},
   "outputs": [
    {
     "data": {
      "image/png": "[encoded data removed]",
      "text/plain": [
       "<Figure size 640x480 with 1 Axes>"
      ]
     },
     "metadata": {},
     "output_type": "display_data"
    }
   ],
   "source": [
    "two_histagrams(diff, black)"
   ]
  },
  {
   "cell_type": "code",
   "execution_count": 10,
   "id": "28ff771a-3d1c-4996-b758-65a29e92c55b",
   "metadata": {},
   "outputs": [
    {
     "data": {
      "text/plain": [
       "ShapiroResult(statistic=0.9875670075416565, pvalue=0.7196325659751892)"
      ]
     },
     "execution_count": 10,
     "metadata": {},
     "output_type": "execute_result"
    }
   ],
   "source": [
    "scipy.stats.shapiro(diff)"
   ]
  },
  {
   "cell_type": "code",
   "execution_count": 11,
   "id": "cdb33458-d140-47d9-8897-ce9204583550",
   "metadata": {},
   "outputs": [
    {
     "data": {
      "text/plain": [
       "ShapiroResult(statistic=0.9894691109657288, pvalue=0.8271143436431885)"
      ]
     },
     "execution_count": 11,
     "metadata": {},
     "output_type": "execute_result"
    }
   ],
   "source": [
    "scipy.stats.shapiro(black)"
   ]
  },
  {
   "cell_type": "code",
   "execution_count": 12,
   "id": "bd0b63bc-ddb1-4fff-af29-97dfb95e3cf7",
   "metadata": {},
   "outputs": [
    {
     "data": {
      "text/plain": [
       "FlignerResult(statistic=3.992070960607846, pvalue=0.0457148434681976)"
      ]
     },
     "execution_count": 12,
     "metadata": {},
     "output_type": "execute_result"
    }
   ],
   "source": [
    "scipy.stats.fligner(diff, black)"
   ]
  },
  {
   "cell_type": "code",
   "execution_count": 13,
   "id": "c20f8334-e01e-4f1a-9faf-36c22b4ef1f7",
   "metadata": {},
   "outputs": [
    {
     "data": {
      "text/plain": [
       "TtestResult(statistic=2.463853781331113, pvalue=0.0162416779538072, df=69)"
      ]
     },
     "execution_count": 13,
     "metadata": {},
     "output_type": "execute_result"
    }
   ],
   "source": [
    "scipy.stats.ttest_rel(diff, black)"
   ]
  }
 ],
 "metadata": {
  "kernelspec": {
   "display_name": "Python 3 (ipykernel)",
   "language": "python",
   "name": "python3"
  },
  "language_info": {
   "codemirror_mode": {
    "name": "ipython",
    "version": 3
   },
   "file_extension": ".py",
   "mimetype": "text/x-python",
   "name": "python",
   "nbconvert_exporter": "python",
   "pygments_lexer": "ipython3",
   "version": "3.11.1"
  }
 },
 "nbformat": 4,
 "nbformat_minor": 5
}
